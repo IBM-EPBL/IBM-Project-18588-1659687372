{
  "nbformat": 4,
  "nbformat_minor": 0,
  "metadata": {
    "colab": {
      "provenance": []
    },
    "kernelspec": {
      "name": "python3",
      "display_name": "Python 3"
    },
    "language_info": {
      "name": "python"
    }
  },
  "cells": [
    {
      "cell_type": "code",
      "source": [
        "\n",
        "def add(x, y):\n",
        "    return x + y\n",
        "def subtract(x, y):\n",
        "    return x - y\n",
        "def multiply(x, y):\n",
        "    return x * y\n",
        "def divide(x, y):\n",
        "    return x / y\n",
        "\n",
        "print(\"Select operation.\")\n",
        "print(\"1.Add\")\n",
        "print(\"2.Subtract\")\n",
        "print(\"3.Multiply\")\n",
        "print(\"4.Divide\")\n",
        "\n",
        "while True:\n",
        "    choice = input(\"Enter choice(1/2/3/4): \")\n",
        "    if choice in ('1', '2', '3', '4'):\n",
        "        num1 = float(input(\"Enter first number: \"))\n",
        "        num2 = float(input(\"Enter second number: \"))\n",
        "\n",
        "        if choice == '1':\n",
        "            print(num1, \"+\", num2, \"=\", add(num1, num2))\n",
        "\n",
        "        elif choice == '2':\n",
        "            print(num1, \"-\", num2, \"=\", subtract(num1, num2))\n",
        "\n",
        "        elif choice == '3':\n",
        "            print(num1, \"*\", num2, \"=\", multiply(num1, num2))\n",
        "\n",
        "        elif choice == '4':\n",
        "            print(num1, \"/\", num2, \"=\", divide(num1, num2))\n",
        "        next_calculation = input(\"Let's do next calculation? (yes/no): \")\n",
        "        if next_calculation == \"no\":\n",
        "          break\n",
        "    \n",
        "    else:\n",
        "        print(\"Invalid Input\")\n"
      ],
      "metadata": {
        "colab": {
          "base_uri": "https://localhost:8080/"
        },
        "id": "qKVw7Cww-0oc",
        "outputId": "2361681d-b91a-4c0f-ee5f-48df596b4da6"
      },
      "execution_count": 4,
      "outputs": [
        {
          "name": "stdout",
          "output_type": "stream",
          "text": [
            "Select operation.\n",
            "1.Add\n",
            "2.Subtract\n",
            "3.Multiply\n",
            "4.Divide\n",
            "Enter choice(1/2/3/4): 3\n",
            "Enter first number: 10\n",
            "Enter second number: 3\n",
            "10.0 * 3.0 = 30.0\n",
            "Let's do next calculation? (yes/no): no\n"
          ]
        }
      ]
    },
    {
      "cell_type": "code",
      "source": [
        "str1=\"IBM\"\n",
        "str2=\"Assignment 2\"\n",
        "print (\"String 1:\",str1)\n",
        "print (\"String 2:\",str2)\n",
        "str=str1+str2\n",
        "print(\"Concatenated two different strings:\",str)\n",
        "def reverse(str):   \n",
        "    str = str[::-1]   \n",
        "    return str   \n",
        "    \n",
        "s = \"Assignment\"  \n",
        "print (\"The original string  is : \",s)   \n",
        "print (\"The reversed string using extended slice operator  is : \",reverse(s))  \n",
        "print(\"Sliced string is:\",str2[:4])"
      ],
      "metadata": {
        "colab": {
          "base_uri": "https://localhost:8080/"
        },
        "id": "hwcoLawBCWDx",
        "outputId": "ea19ecac-76c7-4485-a774-3e625d523e69"
      },
      "execution_count": 8,
      "outputs": [
        {
          "output_type": "stream",
          "name": "stdout",
          "text": [
            "String 1: IBM\n",
            "String 2: Assignment 2\n",
            "Concatenated two different strings: IBMAssignment 2\n",
            "The original string  is :  Assignment\n",
            "The reversed string using extended slice operator  is :  tnemngissA\n",
            "Sliced string is: Assi\n"
          ]
        }
      ]
    },
    {
      "cell_type": "markdown",
      "source": [
        "Why is python a popular programming language?\n",
        "\n",
        "ANS:Python is easy to learn.It uses a simplified syntax with an emphasis on natural language, for a much easier learning curve for beginners. Python is free to use and is supported by an extremely large ecosystem of libraries and packages. "
      ],
      "metadata": {
        "id": "TGwUiNMZHDO2"
      }
    },
    {
      "cell_type": "markdown",
      "source": [
        "What are the other frameworks that can be used with python?\n",
        "ANS:Django.\n",
        "Pyramid.\n",
        "TurboGears.\n",
        "Web2py.\n",
        "CherryPy.\n",
        "Flask.\n",
        "Sani"
      ],
      "metadata": {
        "id": "CYzfFrJ_H7yo"
      }
    },
    {
      "cell_type": "markdown",
      "source": [
        "Full form of WSGI:Web Server Gateway Interface"
      ],
      "metadata": {
        "id": "Jy4KPno6ICoA"
      }
    }
  ]
}